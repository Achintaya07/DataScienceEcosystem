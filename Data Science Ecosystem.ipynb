{
 "cells": [
  {
   "cell_type": "markdown",
   "id": "6515bc47",
   "metadata": {},
   "source": [
    "# Data Science Tools and Ecosystem"
   ]
  },
  {
   "cell_type": "markdown",
   "id": "60acce58",
   "metadata": {},
   "source": [
    "## In this notebook, Data Science Tools and Ecosystem are summarized."
   ]
  },
  {
   "cell_type": "markdown",
   "id": "2fbf4f3c",
   "metadata": {},
   "source": [
    "### Some of the key takeaways from the course:\n",
    " Objectives: \n",
    "--------------------\n",
    "The popular languages that Data Scientists use.\n",
    "\n",
    "The commonly used libraries used by Data Scientists.\n",
    "\n",
    "Few examples of evaluating arithmetic expressions in Python.\n"
   ]
  },
  {
   "cell_type": "markdown",
   "id": "688b953c",
   "metadata": {},
   "source": [
    "### Some of the popular languages that Data Scientists use are:"
   ]
  },
  {
   "cell_type": "markdown",
   "id": "41621185",
   "metadata": {},
   "source": [
    "Python: Python is one of the most popular programming languages for data science and machine learning. It provides a wide range of libraries and frameworks such as NumPy, Pandas, Matplotlib, and scikit-learn, which are extensively used for data manipulation, analysis, visualization, and modeling.\n",
    "\n",
    "R: R is a statistical programming language widely used in data science and data analysis. It offers a rich ecosystem of packages like dplyr, ggplot2, and caret, which provide powerful tools for data manipulation, visualization, statistical analysis, and machine learning.\n",
    "\n",
    "SQL: SQL (Structured Query Language) is a language used for managing and manipulating relational databases. It is essential for working with large datasets stored in databases and performing queries to extract relevant information. SQL is often used in conjunction with other programming languages for data analysis tasks."
   ]
  },
  {
   "cell_type": "markdown",
   "id": "5ef6c1d6",
   "metadata": {},
   "source": [
    "### Some of the commonly used libraries used by Data Scientists include:"
   ]
  },
  {
   "cell_type": "markdown",
   "id": "59e1f587",
   "metadata": {},
   "source": [
    "NumPy: NumPy is a fundamental library for numerical computing in Python. It provides powerful multi-dimensional array objects, along with a collection of mathematical functions, linear algebra operations, random number generation, and Fourier transform capabilities. NumPy is the foundation for many other libraries in the Python data science ecosystem.\n",
    "\n",
    "Pandas: Pandas is a powerful library for data manipulation and analysis in Python. It offers data structures such as DataFrames, which are highly efficient for working with structured data. Pandas provides functions for data cleaning, filtering, merging, reshaping, and aggregating, making it an indispensable tool for data wrangling tasks.\n",
    "\n",
    "Matplotlib: Matplotlib is a widely used plotting library in Python. It offers a variety of plot types and customization options for creating high-quality visualizations. Matplotlib is flexible and can be used for basic line plots, scatter plots, bar charts, histograms, 3D plots, and much more. It is often used in combination with other libraries like NumPy and Pandas to visualize data."
   ]
  },
  {
   "cell_type": "markdown",
   "id": "f33609ec",
   "metadata": {},
   "source": [
    " | Data Science Tools |\n",
    "-----------------------\n",
    "| Jupyter Notebook |\n",
    "| RStudio |\n",
    "| Apache Zeppelin |"
   ]
  },
  {
   "cell_type": "markdown",
   "id": "403367de",
   "metadata": {},
   "source": [
    "### Below are a few examples of evaluating arithmetic expressions in Python"
   ]
  },
  {
   "cell_type": "markdown",
   "id": "b9916427",
   "metadata": {},
   "source": [
    "| Data Science Tools |\n",
    "----------------------\n",
    "| Jupyter Notebook |\n",
    "| RStudio |\n",
    "| Apache Zeppelin |"
   ]
  },
  {
   "cell_type": "code",
   "execution_count": 4,
   "id": "c459381d",
   "metadata": {},
   "outputs": [
    {
     "data": {
      "text/plain": [
       "17"
      ]
     },
     "execution_count": 4,
     "metadata": {},
     "output_type": "execute_result"
    }
   ],
   "source": [
    "(3*4)+5\n",
    "#This a simple arithmetic expression to mutiply then add integers"
   ]
  },
  {
   "cell_type": "code",
   "execution_count": 7,
   "id": "80a3cb60",
   "metadata": {},
   "outputs": [
    {
     "name": "stdout",
     "output_type": "stream",
     "text": [
      "200 minutes is equal to 3 hours and 20 minutes.\n"
     ]
    }
   ],
   "source": [
    "minutes = 200\n",
    "hours = minutes // 60  \n",
    "remaining_minutes = minutes % 60\n",
    "#This will convert 200 minutes to hours by diving by 60\n",
    "print(f\"{minutes} minutes is equal to {hours} hours and {remaining_minutes} minutes.\")\n"
   ]
  },
  {
   "cell_type": "markdown",
   "id": "99e7b7e0",
   "metadata": {},
   "source": [
    "## Autor\n",
    "Achintaya Srivastava"
   ]
  }
 ],
 "metadata": {
  "kernelspec": {
   "display_name": "Python 3 (ipykernel)",
   "language": "python",
   "name": "python3"
  },
  "language_info": {
   "codemirror_mode": {
    "name": "ipython",
    "version": 3
   },
   "file_extension": ".py",
   "mimetype": "text/x-python",
   "name": "python",
   "nbconvert_exporter": "python",
   "pygments_lexer": "ipython3",
   "version": "3.11.3"
  }
 },
 "nbformat": 4,
 "nbformat_minor": 5
}
